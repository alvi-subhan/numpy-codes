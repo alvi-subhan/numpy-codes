{
 "cells": [
  {
   "cell_type": "code",
   "execution_count": null,
   "metadata": {
    "collapsed": true
   },
   "outputs": [],
   "source": []
  },
  {
   "cell_type": "markdown",
   "metadata": {
    "collapsed": true
   },
   "source": [
    "inp=input(\"enter your sample \\n for e.g 1,45,6,7,4 \\n\")\n",
    "#sample_size=int(input(\"enter your sample size\"))\n",
    "\n",
    "#appending the elements of input in lis\n",
    "lis=inp.split(\",\")\n",
    "lis_int=[]\n",
    "\n",
    "final_lis=[]\n",
    "x=0\n",
    "\n",
    "for numbers in lis:\n",
    "    lis_int.append(int(numbers))\n",
    "lis2=lis_int[:]\n",
    "for num1 in lis_int:\n",
    "    for num2 in lis2:\n",
    "        x += 1\n",
    "        sample = (num1, num2,)\n",
    "        # final_lis.append(sample)\n",
    "\n",
    "        # calculate mean\n",
    "        m = round(sum(sample) / len(sample), 2)\n",
    "\n",
    "        # calculate variance using a list comprehension\n",
    "        var_res = round(sum([(xi - m) ** 2 for xi in sample]) / len(sample), 2)\n",
    "        # apending the final reults in the tuple for e.g\n",
    "        # (1,2,3) , mean ,variance\n",
    "        tup = (x, sample, m, var_res)\n",
    "        final_lis.append(tup)\n",
    "        print (tup)"
   ]
  },
  {
   "cell_type": "code",
   "execution_count": 2,
   "metadata": {},
   "outputs": [
    {
     "name": "stdout",
     "output_type": "stream",
     "text": [
      "[[1 0 1 0 1 0 1 0]\n",
      " [1 0 1 0 1 0 1 0]\n",
      " [1 0 1 0 1 0 1 0]\n",
      " [1 0 1 0 1 0 1 0]\n",
      " [1 0 1 0 1 0 1 0]\n",
      " [1 0 1 0 1 0 1 0]\n",
      " [1 0 1 0 1 0 1 0]\n",
      " [1 0 1 0 1 0 1 0]]\n"
     ]
    }
   ],
   "source": [
    "import numpy as np\n",
    "\n",
    "#b=8*8 matrix with all the values zero\n",
    "b=np.zeros(64,dtype=\"uint32\").reshape(8,8)\n",
    "\n",
    "#replacing alternative coloumns with 1\n",
    "b[:,::2]=1\n",
    "\n",
    "#a is the last column\n",
    "a=b[:,-1].reshape(8,1)\n",
    "\n",
    "print(b)\n",
    "\n",
    "\n",
    "\n",
    "\n",
    "\n"
   ]
  },
  {
   "cell_type": "code",
   "execution_count": 4,
   "metadata": {},
   "outputs": [
    {
     "data": {
      "text/plain": [
       "array([0, 1, 2, 3])"
      ]
     },
     "execution_count": 4,
     "metadata": {},
     "output_type": "execute_result"
    }
   ],
   "source": [
    "np.arange(4)\n"
   ]
  },
  {
   "cell_type": "code",
   "execution_count": 7,
   "metadata": {},
   "outputs": [
    {
     "data": {
      "text/plain": [
       "array([[0, 1, 2],\n",
       "       [0, 1, 2]])"
      ]
     },
     "execution_count": 7,
     "metadata": {},
     "output_type": "execute_result"
    }
   ],
   "source": [
    "np.array([np.arange(3),np.arange(3)])"
   ]
  },
  {
   "cell_type": "code",
   "execution_count": 9,
   "metadata": {},
   "outputs": [
    {
     "data": {
      "text/plain": [
       "array([[ 0,  1,  2,  3,  4,  5,  6],\n",
       "       [ 7,  8,  9, 10, 11, 12, 13],\n",
       "       [14, 15, 16, 17, 18, 19, 20],\n",
       "       [21, 22, 23, 24, 25, 26, 27],\n",
       "       [28, 29, 30, 31, 32, 33, 34],\n",
       "       [35, 36, 37, 38, 39, 40, 41]])"
      ]
     },
     "execution_count": 9,
     "metadata": {},
     "output_type": "execute_result"
    }
   ],
   "source": [
    "a=np.arange(42).reshape(6,7)\n",
    "a"
   ]
  },
  {
   "cell_type": "code",
   "execution_count": 16,
   "metadata": {},
   "outputs": [
    {
     "data": {
      "text/plain": [
       "array([[[ 0,  1,  2,  3,  4,  5,  6],\n",
       "        [ 7,  8,  9, 10, 11, 12, 13],\n",
       "        [14, 15, 16, 17, 18, 19, 20]],\n",
       "\n",
       "       [[21, 22, 23, 24, 25, 26, 27],\n",
       "        [28, 29, 30, 31, 32, 33, 34],\n",
       "        [35, 36, 37, 38, 39, 40, 41]]])"
      ]
     },
     "execution_count": 16,
     "metadata": {},
     "output_type": "execute_result"
    }
   ],
   "source": [
    "b=a.reshape(2,3,7)\n",
    "b"
   ]
  },
  {
   "cell_type": "code",
   "execution_count": 18,
   "metadata": {},
   "outputs": [
    {
     "data": {
      "text/plain": [
       "array([[  0,  22,  46,  72, 100, 130, 162],\n",
       "       [196, 232, 270, 310, 352, 396, 442],\n",
       "       [490, 540, 592, 646, 702, 760, 820]])"
      ]
     },
     "execution_count": 18,
     "metadata": {},
     "output_type": "execute_result"
    }
   ],
   "source": [
    "#this is not a conventiona; multiplaction of matrix \n",
    "#element with the same i,j values are multiplying with each other\n",
    "b[0]*b[1]"
   ]
  },
  {
   "cell_type": "code",
   "execution_count": 22,
   "metadata": {},
   "outputs": [
    {
     "data": {
      "text/plain": [
       "array([0, 1, 2, 3, 4, 5, 6])"
      ]
     },
     "execution_count": 22,
     "metadata": {},
     "output_type": "execute_result"
    }
   ],
   "source": [
    "b[0,0,:]"
   ]
  },
  {
   "cell_type": "code",
   "execution_count": 27,
   "metadata": {},
   "outputs": [
    {
     "data": {
      "text/plain": [
       "array([[ 0,  1,  2,  3,  4,  5,  6, 21, 22, 23, 24, 25, 26, 27],\n",
       "       [ 7,  8,  9, 10, 11, 12, 13, 28, 29, 30, 31, 32, 33, 34],\n",
       "       [14, 15, 16, 17, 18, 19, 20, 35, 36, 37, 38, 39, 40, 41]])"
      ]
     },
     "execution_count": 27,
     "metadata": {},
     "output_type": "execute_result"
    }
   ],
   "source": [
    "d=np.hstack((b[0],b[1]))\n",
    "d"
   ]
  },
  {
   "cell_type": "code",
   "execution_count": 32,
   "metadata": {},
   "outputs": [
    {
     "data": {
      "text/plain": [
       "array([[ 0,  1,  2,  3,  4,  5,  6],\n",
       "       [ 7,  8,  9, 10, 11, 12, 13],\n",
       "       [14, 15, 16, 17, 18, 19, 20],\n",
       "       [21, 22, 23, 24, 25, 26, 27],\n",
       "       [28, 29, 30, 31, 32, 33, 34],\n",
       "       [35, 36, 37, 38, 39, 40, 41]])"
      ]
     },
     "execution_count": 32,
     "metadata": {},
     "output_type": "execute_result"
    }
   ],
   "source": [
    "e=np.concatenate((b[0],b[1]),axis=0)\n",
    "e"
   ]
  },
  {
   "cell_type": "code",
   "execution_count": 36,
   "metadata": {},
   "outputs": [
    {
     "data": {
      "text/plain": [
       "[array([[ 0],\n",
       "        [ 7],\n",
       "        [14],\n",
       "        [21],\n",
       "        [28],\n",
       "        [35]]), array([[ 1],\n",
       "        [ 8],\n",
       "        [15],\n",
       "        [22],\n",
       "        [29],\n",
       "        [36]]), array([[ 2],\n",
       "        [ 9],\n",
       "        [16],\n",
       "        [23],\n",
       "        [30],\n",
       "        [37]])]"
      ]
     },
     "execution_count": 36,
     "metadata": {},
     "output_type": "execute_result"
    }
   ],
   "source": [
    "np.hsplit(e,7)[0:3]"
   ]
  },
  {
   "cell_type": "code",
   "execution_count": 44,
   "metadata": {},
   "outputs": [
    {
     "name": "stdout",
     "output_type": "stream",
     "text": [
      "3\n",
      "[[ 0  1  2  3  4  5  6]\n",
      " [ 7  8  9 10 11 12 13]]\n",
      "[[14 15 16 17 18 19 20]\n",
      " [21 22 23 24 25 26 27]]\n",
      "[[28 29 30 31 32 33 34]\n",
      " [35 36 37 38 39 40 41]]\n"
     ]
    }
   ],
   "source": [
    "lis=[nums for nums in np.vsplit(e,3)]\n",
    "print(len(lis))\n",
    "for num in lis:\n",
    "    print(num)"
   ]
  },
  {
   "cell_type": "code",
   "execution_count": 47,
   "metadata": {},
   "outputs": [
    {
     "data": {
      "text/plain": [
       "(7, 6, 1)"
      ]
     },
     "execution_count": 47,
     "metadata": {},
     "output_type": "execute_result"
    }
   ],
   "source": [
    "np.shape(np.hsplit(e,7))"
   ]
  },
  {
   "cell_type": "code",
   "execution_count": 48,
   "metadata": {},
   "outputs": [
    {
     "data": {
      "text/plain": [
       "3"
      ]
     },
     "execution_count": 48,
     "metadata": {},
     "output_type": "execute_result"
    }
   ],
   "source": [
    "np.size(np.shape(np.hsplit(e,7)))"
   ]
  },
  {
   "cell_type": "code",
   "execution_count": 8,
   "metadata": {},
   "outputs": [
    {
     "name": "stdout",
     "output_type": "stream",
     "text": [
      "[ 214.009998  214.379993  210.969995 ...,  116.760002  116.730003  115.82    ]\n"
     ]
    }
   ],
   "source": [
    "import numpy as np\n",
    "cl,vl=np.loadtxt('prices.csv', delimiter=\",\", usecols=(3,6), unpack=True)\n",
    "print (cl)"
   ]
  },
  {
   "cell_type": "code",
   "execution_count": 9,
   "metadata": {},
   "outputs": [
    {
     "name": "stdout",
     "output_type": "stream",
     "text": [
      "[ 214.009998  214.379993  210.969995 ...,  116.760002  116.730003  115.82    ] === [  1.23432400e+08   1.50476200e+08   1.38040000e+08 ...,   2.09059000e+07\n",
      "   1.50395000e+07   3.05863000e+07]\n"
     ]
    }
   ],
   "source": [
    "mean_cl=np.mean(cl)\n",
    "mean_vl=np.mean(vl)\n",
    "\n",
    "print(cl,\"===\",vl)"
   ]
  },
  {
   "cell_type": "code",
   "execution_count": 56,
   "metadata": {},
   "outputs": [
    {
     "ename": "NameError",
     "evalue": "name 'Pkajsjas' is not defined",
     "output_type": "error",
     "traceback": [
      "\u001b[1;31m---------------------------------------------------------------------------\u001b[0m",
      "\u001b[1;31mNameError\u001b[0m                                 Traceback (most recent call last)",
      "\u001b[1;32m<ipython-input-56-ee3ddd5244f4>\u001b[0m in \u001b[0;36m<module>\u001b[1;34m()\u001b[0m\n\u001b[1;32m----> 1\u001b[1;33m \u001b[0mPkajsjas\u001b[0m\u001b[1;33m\u001b[0m\u001b[0m\n\u001b[0m",
      "\u001b[1;31mNameError\u001b[0m: name 'Pkajsjas' is not defined"
     ]
    }
   ],
   "source": [
    "Pkajsjas"
   ]
  },
  {
   "cell_type": "code",
   "execution_count": null,
   "metadata": {
    "collapsed": true
   },
   "outputs": [],
   "source": []
  }
 ],
 "metadata": {
  "kernelspec": {
   "display_name": "Python 3",
   "language": "python",
   "name": "python3"
  },
  "language_info": {
   "codemirror_mode": {
    "name": "ipython",
    "version": 3
   },
   "file_extension": ".py",
   "mimetype": "text/x-python",
   "name": "python",
   "nbconvert_exporter": "python",
   "pygments_lexer": "ipython3",
   "version": "3.6.1"
  }
 },
 "nbformat": 4,
 "nbformat_minor": 1
}
